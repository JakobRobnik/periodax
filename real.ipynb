{
 "cells": [
  {
   "cell_type": "code",
   "execution_count": 1,
   "metadata": {
    "tags": []
   },
   "outputs": [
    {
     "name": "stderr",
     "output_type": "stream",
     "text": [
      "An NVIDIA GPU may be present on this machine, but a CUDA-enabled jaxlib is not installed. Falling back to cpu.\n"
     ]
    }
   ],
   "source": [
    "import jax\n",
    "import jax.numpy as jnp\n",
    "import matplotlib.pyplot as plt\n",
    "import pandas as pd\n",
    "import numpy as np\n",
    "from jax.scipy.optimize import minimize \n",
    "from LombScargle import periodogram, psd\n",
    "from hypothesis_testing.bayes_factor import logB\n",
    "from quasars import prep\n",
    "\n",
    "from simulations.util import  *"
   ]
  },
  {
   "cell_type": "code",
   "execution_count": 2,
   "metadata": {},
   "outputs": [
    {
     "ename": "ValueError",
     "evalue": "zero-size array to reduction operation max which has no identity",
     "output_type": "error",
     "traceback": [
      "\u001b[0;31m---------------------------------------------------------------------------\u001b[0m",
      "\u001b[0;31mValueError\u001b[0m                                Traceback (most recent call last)",
      "Cell \u001b[0;32mIn[2], line 3\u001b[0m\n\u001b[1;32m      1\u001b[0m \u001b[39mid\u001b[39m \u001b[39m=\u001b[39m \u001b[39m19827\u001b[39m\n\u001b[1;32m      2\u001b[0m \u001b[39m#id = 253736\u001b[39;00m\n\u001b[0;32m----> 3\u001b[0m time, mag, mag_err, freq, prior_params \u001b[39m=\u001b[39m prep\u001b[39m.\u001b[39;49mprepare_data(\u001b[39mid\u001b[39;49m)\n\u001b[1;32m      4\u001b[0m \u001b[39mprint\u001b[39m(\u001b[39mlen\u001b[39m(time))\n\u001b[1;32m      6\u001b[0m score_white, amps \u001b[39m=\u001b[39m jax\u001b[39m.\u001b[39mvmap(periodogram\u001b[39m.\u001b[39mlomb_scargle(time, mag, \u001b[39mTrue\u001b[39;00m, mag_err))(freq)\n",
      "File \u001b[0;32m/global/u1/j/jrobnik/periodogram/quasars/prep.py:78\u001b[0m, in \u001b[0;36mprepare_data\u001b[0;34m(id, remove_outliers, average_within_night)\u001b[0m\n\u001b[1;32m     75\u001b[0m     time, mag, mag_err \u001b[39m=\u001b[39m within_night_averaging(time, mag, mag_err)\n\u001b[1;32m     77\u001b[0m \u001b[39m# determine the frequency grid\u001b[39;00m\n\u001b[0;32m---> 78\u001b[0m T \u001b[39m=\u001b[39m jnp\u001b[39m.\u001b[39;49mmax(time) \u001b[39m-\u001b[39m jnp\u001b[39m.\u001b[39mmin(time)\n\u001b[1;32m     79\u001b[0m fmin, fmax \u001b[39m=\u001b[39m \u001b[39m2.\u001b[39m\u001b[39m/\u001b[39mT, \u001b[39m1.\u001b[39m\u001b[39m/\u001b[39m\u001b[39m60.\u001b[39m\n\u001b[1;32m     80\u001b[0m factor \u001b[39m=\u001b[39m \u001b[39m2.\u001b[39m\u001b[39m/\u001b[39m\u001b[39m1.5\u001b[39m \u001b[39m# prior starts to die off at 2/T and is zero at 1.5/T\u001b[39;00m\n",
      "File \u001b[0;32m~/.conda/envs/saturn/lib/python3.9/site-packages/jax/_src/numpy/reductions.py:263\u001b[0m, in \u001b[0;36mmax\u001b[0;34m(a, axis, out, keepdims, initial, where)\u001b[0m\n\u001b[1;32m    259\u001b[0m \u001b[39m@implements\u001b[39m(np\u001b[39m.\u001b[39mmax, skip_params\u001b[39m=\u001b[39m[\u001b[39m'\u001b[39m\u001b[39mout\u001b[39m\u001b[39m'\u001b[39m])\n\u001b[1;32m    260\u001b[0m \u001b[39mdef\u001b[39;00m \u001b[39mmax\u001b[39m(a: ArrayLike, axis: Axis \u001b[39m=\u001b[39m \u001b[39mNone\u001b[39;00m, out: \u001b[39mNone\u001b[39;00m \u001b[39m=\u001b[39m \u001b[39mNone\u001b[39;00m,\n\u001b[1;32m    261\u001b[0m         keepdims: \u001b[39mbool\u001b[39m \u001b[39m=\u001b[39m \u001b[39mFalse\u001b[39;00m, initial: ArrayLike \u001b[39m|\u001b[39m \u001b[39mNone\u001b[39;00m \u001b[39m=\u001b[39m \u001b[39mNone\u001b[39;00m,\n\u001b[1;32m    262\u001b[0m         where: ArrayLike \u001b[39m|\u001b[39m \u001b[39mNone\u001b[39;00m \u001b[39m=\u001b[39m \u001b[39mNone\u001b[39;00m) \u001b[39m-\u001b[39m\u001b[39m>\u001b[39m Array:\n\u001b[0;32m--> 263\u001b[0m   \u001b[39mreturn\u001b[39;00m _reduce_max(a, axis\u001b[39m=\u001b[39;49m_ensure_optional_axes(axis), out\u001b[39m=\u001b[39;49mout,\n\u001b[1;32m    264\u001b[0m                      keepdims\u001b[39m=\u001b[39;49mkeepdims, initial\u001b[39m=\u001b[39;49minitial, where\u001b[39m=\u001b[39;49mwhere)\n",
      "    \u001b[0;31m[... skipping hidden 12 frame]\u001b[0m\n",
      "File \u001b[0;32m~/.conda/envs/saturn/lib/python3.9/site-packages/jax/_src/numpy/reductions.py:255\u001b[0m, in \u001b[0;36m_reduce_max\u001b[0;34m(a, axis, out, keepdims, initial, where)\u001b[0m\n\u001b[1;32m    251\u001b[0m \u001b[39m@partial\u001b[39m(api\u001b[39m.\u001b[39mjit, static_argnames\u001b[39m=\u001b[39m(\u001b[39m'\u001b[39m\u001b[39maxis\u001b[39m\u001b[39m'\u001b[39m, \u001b[39m'\u001b[39m\u001b[39mkeepdims\u001b[39m\u001b[39m'\u001b[39m), inline\u001b[39m=\u001b[39m\u001b[39mTrue\u001b[39;00m)\n\u001b[1;32m    252\u001b[0m \u001b[39mdef\u001b[39;00m \u001b[39m_reduce_max\u001b[39m(a: ArrayLike, axis: Axis \u001b[39m=\u001b[39m \u001b[39mNone\u001b[39;00m, out: \u001b[39mNone\u001b[39;00m \u001b[39m=\u001b[39m \u001b[39mNone\u001b[39;00m,\n\u001b[1;32m    253\u001b[0m                 keepdims: \u001b[39mbool\u001b[39m \u001b[39m=\u001b[39m \u001b[39mFalse\u001b[39;00m, initial: ArrayLike \u001b[39m|\u001b[39m \u001b[39mNone\u001b[39;00m \u001b[39m=\u001b[39m \u001b[39mNone\u001b[39;00m,\n\u001b[1;32m    254\u001b[0m                 where: ArrayLike \u001b[39m|\u001b[39m \u001b[39mNone\u001b[39;00m \u001b[39m=\u001b[39m \u001b[39mNone\u001b[39;00m) \u001b[39m-\u001b[39m\u001b[39m>\u001b[39m Array:\n\u001b[0;32m--> 255\u001b[0m   \u001b[39mreturn\u001b[39;00m _reduction(a, \u001b[39m\"\u001b[39;49m\u001b[39mmax\u001b[39;49m\u001b[39m\"\u001b[39;49m, np\u001b[39m.\u001b[39;49mmax, lax\u001b[39m.\u001b[39;49mmax, \u001b[39m-\u001b[39;49mnp\u001b[39m.\u001b[39;49minf, has_identity\u001b[39m=\u001b[39;49m\u001b[39mFalse\u001b[39;49;00m,\n\u001b[1;32m    256\u001b[0m                     axis\u001b[39m=\u001b[39;49maxis, out\u001b[39m=\u001b[39;49mout, keepdims\u001b[39m=\u001b[39;49mkeepdims,\n\u001b[1;32m    257\u001b[0m                     initial\u001b[39m=\u001b[39;49minitial, where_\u001b[39m=\u001b[39;49mwhere, parallel_reduce\u001b[39m=\u001b[39;49mlax\u001b[39m.\u001b[39;49mpmax)\n",
      "File \u001b[0;32m~/.conda/envs/saturn/lib/python3.9/site-packages/jax/_src/numpy/reductions.py:101\u001b[0m, in \u001b[0;36m_reduction\u001b[0;34m(a, name, np_fun, op, init_val, has_identity, preproc, bool_op, upcast_f16_for_computation, axis, dtype, out, keepdims, initial, where_, parallel_reduce, promote_integers)\u001b[0m\n\u001b[1;32m     99\u001b[0m   shape \u001b[39m=\u001b[39m np\u001b[39m.\u001b[39mshape(a)\n\u001b[1;32m    100\u001b[0m   \u001b[39mif\u001b[39;00m \u001b[39mnot\u001b[39;00m _all(shape[d] \u001b[39m>\u001b[39m\u001b[39m=\u001b[39m \u001b[39m1\u001b[39m \u001b[39mfor\u001b[39;00m d \u001b[39min\u001b[39;00m pos_dims):\n\u001b[0;32m--> 101\u001b[0m     \u001b[39mraise\u001b[39;00m \u001b[39mValueError\u001b[39;00m(\u001b[39mf\u001b[39m\u001b[39m\"\u001b[39m\u001b[39mzero-size array to reduction operation \u001b[39m\u001b[39m{\u001b[39;00mname\u001b[39m}\u001b[39;00m\u001b[39m which has no identity\u001b[39m\u001b[39m\"\u001b[39m)\n\u001b[1;32m    103\u001b[0m result_dtype \u001b[39m=\u001b[39m dtype \u001b[39mor\u001b[39;00m dtypes\u001b[39m.\u001b[39mdtype(a)\n\u001b[1;32m    105\u001b[0m \u001b[39mif\u001b[39;00m dtype \u001b[39mis\u001b[39;00m \u001b[39mNone\u001b[39;00m \u001b[39mand\u001b[39;00m promote_integers:\n\u001b[1;32m    106\u001b[0m   \u001b[39m# Note: NumPy always promotes to 64-bit; jax instead promotes to the\u001b[39;00m\n\u001b[1;32m    107\u001b[0m   \u001b[39m# default dtype as defined by dtypes.int_ or dtypes.uint.\u001b[39;00m\n",
      "\u001b[0;31mValueError\u001b[0m: zero-size array to reduction operation max which has no identity"
     ]
    }
   ],
   "source": [
    "id = 19827\n",
    "#id = 253736\n",
    "time, mag, mag_err, freq, prior_params = prep.prepare_data(id)\n",
    "print(len(time))\n",
    "\n",
    "score_white, amps = jax.vmap(periodogram.lomb_scargle(time, mag, True, mag_err))(freq)\n",
    "ibest = jnp.argmax(score_white)\n",
    "score_white, amp = score_white[ibest], amps[ibest]\n",
    "print(score_white)\n",
    "freq_best = freq[ibest]\n",
    "print(1./freq_best)\n",
    "tshift = 0\n",
    "plt.title('id: ' + str(id))\n",
    "plt.errorbar(time-tshift, mag, mag_err, fmt = '.', capsize = 1.3, color= 'black')\n",
    "t = jnp.linspace(jnp.min(time), jnp.max(time), 1000)\n",
    "model= periodogram.fit(t, freq_best, amp)\n",
    "plt.plot(t-tshift, model, color = 'teal')\n",
    "plt.gca().invert_yaxis()\n",
    "\n",
    "plt.show()"
   ]
  },
  {
   "cell_type": "code",
   "execution_count": 19,
   "metadata": {},
   "outputs": [],
   "source": [
    "from quasars import prior\n",
    "\n",
    "def signal(key, time, generator_logfreq):\n",
    "    key1, key2 = jax.random.split(key)\n",
    "    phase = jax.random.uniform(key1) * 2 * jnp.pi\n",
    "    freq_injected = jnp.exp(generator_logfreq(key2))\n",
    "    return jnp.sin(2 * jnp.pi * freq_injected * time + phase), 1./freq_injected\n",
    "\n",
    "key = jax.random.PRNGKey(42)\n",
    "id = 19827\n",
    "#id = 253736\n",
    "time, _, mag_err, freq, prior_params = prep.prepare_data(id)\n",
    "nlogpr_logfreq, generator_logfreq = prior.uniform_with_smooth_edge(*prior_params)\n",
    "\n",
    "mag, period_injected = signal(key, time, generator_logfreq)"
   ]
  },
  {
   "cell_type": "code",
   "execution_count": 3,
   "metadata": {
    "tags": []
   },
   "outputs": [
    {
     "name": "stdout",
     "output_type": "stream",
     "text": [
      "654.4673 309.7\n"
     ]
    }
   ],
   "source": [
    "known = pd.read_csv('quasars/known.csv')\n",
    "data= pd.read_csv('data/data.csv')\n",
    "data= data.sort_values('myid')\n",
    "period = np.array(data['period'])\n",
    "period0 = np.array(known['period'])\n",
    "\n",
    "print(period[13], period0[13])"
   ]
  },
  {
   "cell_type": "code",
   "execution_count": 18,
   "metadata": {
    "tags": []
   },
   "outputs": [],
   "source": [
    "# setup\n",
    "key = jax.random.PRNGKey(42)\n",
    "\n",
    "scratch = '/pscratch/sd/j/jrobnik/quasars/'\n",
    "id = jnp.load(scratch + 'ids.npy')# a random id\n",
    "print(len(id))\n",
    "#id = jnp.array(pd.read_csv('quasars/known.csv')['id'], dtype= int)[4]\n",
    "\n",
    "#hyp = jnp.array([0.1, 120.])\n",
    "    \n",
    "df = pd.read_csv(scratch + str(id) + '.csv')\n",
    "time = jnp.array(df['time'])\n",
    "mag = jnp.array(df['mag'])\n",
    "mag_err = jnp.array(df['mag_err'])\n",
    "#key_time, key_data = jax.random.split(key)\n",
    "#time= jax.random.uniform(key_time, shape = (1000,)) * 2000\n",
    "#mag_err= jnp.ones(time.shape) * 0.0\n",
    "\n",
    "#cov = psd.covariance(time, psd.drw_kernel(*hyp), mag_err)\n",
    "T = jnp.max(time) - jnp.min(time)\n",
    "fmin, fmax = 1./T, 1./60.\n",
    "freq = jnp.logspace(jnp.log10(fmin), jnp.log10(fmax), 1000)\n",
    "#data = irregular_spaced(key, cov)\n",
    "\n",
    "#print(logB(time, data, mag_err, freq))"
   ]
  }
 ],
 "metadata": {
  "kernelspec": {
   "display_name": "NERSC Python",
   "language": "python",
   "name": "python3"
  },
  "language_info": {
   "codemirror_mode": {
    "name": "ipython",
    "version": 3
   },
   "file_extension": ".py",
   "mimetype": "text/x-python",
   "name": "python",
   "nbconvert_exporter": "python",
   "pygments_lexer": "ipython3",
   "version": "3.9.16"
  }
 },
 "nbformat": 4,
 "nbformat_minor": 4
}
