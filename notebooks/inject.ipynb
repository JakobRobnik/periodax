{
 "cells": [
  {
   "cell_type": "code",
   "execution_count": 17,
   "metadata": {},
   "outputs": [],
   "source": [
    "import jax\n",
    "import jax.numpy as jnp\n",
    "import numpy as np\n",
    "import matplotlib.pyplot as plt\n",
    "import pandas as pd\n",
    "\n",
    "data = pd.read_csv('../data/real_0_0.csv').sort_values('logB', ascending=False)"
   ]
  },
  {
   "cell_type": "code",
   "execution_count": 24,
   "metadata": {},
   "outputs": [],
   "source": [
    "def _twin(df, df_query):\n",
    "    \n",
    "    def similarity(row):\n",
    "        # props = ['T', 'data_points']\n",
    "        # x = np.array(row[props])\n",
    "        # y = np.array(df_query[props])\n",
    "        # return np.sqrt(np.sum(np.square(x - y) / np.square(y)))\n",
    "        d1 = np.abs(row['T'] - df_query['T']) / df_query['T']\n",
    "        d2 = np.abs(row['data_points'] - df_query['data_points']) / df_query['data_points']\n",
    "        return np.max([d1, d2])\n",
    "        \n",
    "    sim = np.array(df.apply(similarity, axis= 1))\n",
    "    best_match = np.argmin(sim)\n",
    "    return {'best_match': df.iloc[best_match]['id']}\n",
    "    \n",
    "    \n",
    "def twin(df, num):\n",
    "    \"\"\"Remove the top 'num' candidates from 'df'. For each removed candidate the most similar quasar among the remaining quasars is found. \n",
    "       Returns: an array of removed candidates with attached id of their twin. \n",
    "    \"\"\"\n",
    "    removed = df.iloc[:num]\n",
    "    remaining = df.iloc[num:]\n",
    "    \n",
    "    best_match = removed.apply(lambda df_query: _twin(remaining, df_query), axis= 1, result_type= 'expand')\n",
    "    removed = removed.join(best_match)\n",
    "    return removed\n",
    "    \n",
    "\n",
    "removed= twin(data, 30)\n",
    "\n",
    "removed.to_csv('../data/twins.csv')"
   ]
  }
 ],
 "metadata": {
  "language_info": {
   "name": "python"
  }
 },
 "nbformat": 4,
 "nbformat_minor": 2
}
