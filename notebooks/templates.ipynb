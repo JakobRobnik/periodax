{
 "cells": [
  {
   "cell_type": "code",
   "execution_count": null,
   "metadata": {},
   "outputs": [],
   "source": [
    "t= jnp.linspace(0, 5, 1000)\n",
    "saw = jnp.mod(-(t-0.2) * 2, 2.) -1\n",
    "saw = saw / jnp.sqrt(jnp.dot(saw, saw))\n",
    "s1 = lambda phi: jnp.sin(2 * jnp.pi * t - phi)\n",
    "amp = lambda phi: jnp.dot(s1(phi), saw) / jnp.dot(s1(phi), s1(phi))\n",
    "s = lambda phi: s1(phi) * amp(phi)\n",
    "\n",
    "loss = lambda phi: 1. -  jnp.dot(s1(phi), saw) / jnp.sqrt(jnp.dot(s1(phi), s1(phi)))\n",
    "\n",
    "phi = jnp.linspace(0, 2 * jnp.pi, 100)\n",
    "print(jnp.min(jax.vmap(loss)(phi)))\n",
    "plt.plot(phi, jax.vmap(loss)(phi))\n",
    "plt.show()"
   ]
  },
  {
   "cell_type": "code",
   "execution_count": null,
   "metadata": {},
   "outputs": [],
   "source": [
    "triangle_wave = lambda t: 4 * jnp.abs(t - jnp.floor(t + 0.75) + 0.25) - 1.\n",
    "term = lambda t, k: (jnp.sin(2 * jnp.pi * t * (2 * k-1)) * (-8.) * (-1)**k) /(jnp.square(jnp.pi) * jnp.square(2 * k - 1))\n",
    "\n",
    "terms = jax.vmap(term, (None, 0))\n",
    "fourier_triangle = lambda t, kmax: jnp.sum(terms(t, jnp.arange(1, kmax + 1)), axis = 0)\n",
    "\n",
    "t = jnp.linspace(0, 3, 1000)\n",
    "kmax = 5\n",
    "s = fourier_triangle(t, kmax)\n",
    "s0 = triangle_wave(t)\n",
    "\n",
    "r = 1. - jnp.dot(s, s0) / jnp.sqrt(jnp.dot(s, s) * jnp.dot(s0, s0))\n",
    "plt.title('SNR loss = {0:.2}'.format(r))\n",
    "plt.plot(t, s, color = 'tab:blue')\n",
    "plt.plot(t, s0, color = 'black', alpha = 0.5)\n",
    "#plt.savefig('img/triangle_' + str(kmax) + 'terms.png')\n",
    "plt.show()"
   ]
  },
  {
   "cell_type": "code",
   "execution_count": null,
   "metadata": {},
   "outputs": [],
   "source": [
    "saw = lambda t: 4 * jnp.abs(t - jnp.floor(t + 0.75) + 0.25) - 1.\n",
    "saw_sine = lambda t, k: (jnp.sin(2 * jnp.pi * t * (2 * k-1)) * (-8.) * (-1)**k) /(jnp.square(jnp.pi) * jnp.square(2 * k - 1))\n",
    "\n",
    "terms = jax.vmap(term, (None, 0))\n",
    "fourier_triangle = lambda t, kmax: jnp.sum(terms(t, jnp.arange(1, kmax + 1)), axis = 0)\n",
    "\n",
    "t = jnp.linspace(0, 3, 1000)\n",
    "kmax = 5\n",
    "s = fourier_triangle(t, kmax)\n",
    "s0 = triangle_wave(t)\n",
    "\n",
    "r = 1. - jnp.dot(s, s0) / jnp.sqrt(jnp.dot(s, s) * jnp.dot(s0, s0))\n",
    "plt.title('SNR loss = {0:.2}'.format(r))\n",
    "plt.plot(t, s, color = 'tab:blue')\n",
    "plt.plot(t, s0, color = 'black', alpha = 0.5)\n",
    "#plt.savefig('img/triangle_' + str(kmax) + 'terms.png')\n",
    "plt.show()"
   ]
  }
 ],
 "metadata": {
  "language_info": {
   "name": "python"
  }
 },
 "nbformat": 4,
 "nbformat_minor": 2
}
