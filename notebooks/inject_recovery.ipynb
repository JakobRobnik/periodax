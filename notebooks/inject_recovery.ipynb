{
 "cells": [
  {
   "cell_type": "code",
   "execution_count": null,
   "metadata": {},
   "outputs": [],
   "source": [
    "# setup\n",
    "\n",
    "scratch = '/pscratch/sd/j/jrobnik/quasars/'\n",
    "ids = jnp.load(scratch + 'ids.npy') # a random id\n",
    "\n",
    "\n",
    "def inject_recovery(key, id, hyp):\n",
    "    \n",
    "    df = pd.read_csv(scratch + str(id) + '.csv')\n",
    "    time = jnp.array(df['time'])\n",
    "    mag = jnp.array(df['mag'])\n",
    "    mag_err = jnp.array(df['mag_err'])\n",
    "    cov = psd.covariance(time, psd.drw_kernel(*hyp), mag_err)\n",
    "\n",
    "    data = irregular_spaced(key, cov)\n",
    "    null, alternative = psd.nlog_density(time, data, mag_err, freq[0], freq[-1])\n",
    "    opt = minimize(null, x0 = jnp.log(hyp), method = 'BFGS')\n",
    "    return jnp.exp(opt.x)\n",
    "\n",
    "\n",
    "hyp = jnp.array([0.1, 10.])\n",
    "num_sim = 2\n",
    "keys = jax.random.split(key, num_sim)\n",
    "recovered = jnp.array([inject_recovery(keys[i], ids[i], hyp) for i in range(num_sim)])\n",
    "\n",
    "plt.plot(recovered[:, 0], recovered[:, 1], '.', color= 'teal', label= 'recovered')\n",
    "plt.plot([hyp[0],], [hyp[1],], '*', markersize = 10, color = 'gold', label = 'injected')\n",
    "plt.xlabel(r'$\\sigma$')\n",
    "plt.ylabel(r'$\\tau$')\n",
    "plt.yscale('log')\n",
    "plt.xscale('log')\n",
    "plt.show()"
   ]
  }
 ],
 "metadata": {
  "language_info": {
   "name": "python"
  }
 },
 "nbformat": 4,
 "nbformat_minor": 2
}
